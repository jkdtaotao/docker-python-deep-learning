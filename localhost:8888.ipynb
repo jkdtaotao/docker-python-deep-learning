{
 "cells": [
  {
   "cell_type": "code",
   "execution_count": 32,
   "metadata": {
    "collapsed": true
   },
   "outputs": [
    {
     "name": "stdout",
     "output_type": "stream",
     "text": [
      "Seq: 1 of 7   Code: 603912.SH\n"
     ]
    },
    {
     "name": "stderr",
     "output_type": "stream",
     "text": [
      "/usr/local/lib/python3.5/dist-packages/ipykernel_launcher.py:47: DeprecationWarning: \n.ix is deprecated. Please use\n.loc for label based indexing or\n.iloc for positional indexing\n\nSee the documentation here:\nhttp://pandas.pydata.org/pandas-docs/stable/indexing.html#ix-indexer-is-deprecated\n"
     ]
    },
    {
     "name": "stdout",
     "output_type": "stream",
     "text": [
      "Seq: 2 of 7   Code: 300666.SZ\n"
     ]
    },
    {
     "name": "stdout",
     "output_type": "stream",
     "text": [
      "Seq: 3 of 7   Code: 300618.SZ\n"
     ]
    },
    {
     "name": "stdout",
     "output_type": "stream",
     "text": [
      "Seq: 4 of 7   Code: 002049.SZ\n"
     ]
    },
    {
     "name": "stdout",
     "output_type": "stream",
     "text": [
      "Seq: 5 of 7   Code: 600756.SH\n"
     ]
    },
    {
     "name": "stdout",
     "output_type": "stream",
     "text": [
      "Seq: 6 of 7   Code: 000810.SZ\n"
     ]
    },
    {
     "name": "stdout",
     "output_type": "stream",
     "text": [
      "Seq: 7 of 7   Code: 603398.SH\n"
     ]
    },
    {
     "name": "stdout",
     "output_type": "stream",
     "text": [
      "All Finished!\n"
     ]
    }
   ],
   "source": [
    "import datetime\n",
    "import tushare as ts\n",
    "import pymysql\n",
    "\n",
    "if __name__ == '__main__':\n",
    "\n",
    "    # 设置tushare pro的token并获取连接\n",
    "    ts.set_token('**********')\n",
    "    pro = ts.pro_api()\n",
    "    # 设定获取日线行情的初始日期和终止日期，其中终止日期设定为昨天。\n",
    "    start_dt = '20100101'\n",
    "    time_temp = datetime.datetime.now() - datetime.timedelta(days=1)\n",
    "    end_dt = time_temp.strftime('%Y%m%d')\n",
    "    # 建立数据库连接,剔除已入库的部分\n",
    "    db = pymysql.connect(host='db', user='root', passwd='admin', db='stock', charset='utf8')\n",
    "    cursor = db.cursor()\n",
    "    # 设定需要获取数据的股票池\n",
    "    stock_pool = ['603912.SH','300666.SZ','300618.SZ','002049.SZ','600756.SH','000810.SZ', '603398.SH']\n",
    "    total = len(stock_pool)\n",
    "    # 循环获取单个股票的日线行情\n",
    "    # sql_insert = \"CREATE TABLE IF NOT EXISTS stock_all(\" \\\n",
    "    #              \"state_dt VARCHAR(255) NOT NULL,\" \\\n",
    "    #              \"stock_code VARCHAR(255) NOT NULL,\" \\\n",
    "    #              \"open float,\" \\\n",
    "    #              \"close float,\" \\\n",
    "    #              \"high float,\" \\\n",
    "    #              \"low float,\" \\\n",
    "    #              \"vol float,\" \\\n",
    "    #              \"amount float,\" \\\n",
    "    #              \"pre_close float,\" \\\n",
    "    #              \"amt_change float,\" \\\n",
    "    #              \"pct_change float);\"\n",
    "    # cursor.execute(sql_insert)\n",
    "    # db.commit()\n",
    "    \n",
    "    for i in range(len(stock_pool)):\n",
    "        try:\n",
    "            df = pro.daily(ts_code=stock_pool[i], start_date=start_dt, end_date=end_dt)\n",
    "            # 打印进度\n",
    "            print('Seq: ' + str(i+1) + ' of ' + str(total) + '   Code: ' + str(stock_pool[i]))\n",
    "            c_len = df.shape[0]\n",
    "        except Exception as aa:\n",
    "            print(aa)\n",
    "            print('No DATA Code: ' + str(i))\n",
    "            continue\n",
    "        for j in range(c_len):\n",
    "            resu0 = list(df.ix[c_len-1-j])\n",
    "            resu = []\n",
    "            for k in range(len(resu0)):\n",
    "                if str(resu0[k]) == 'nan':\n",
    "                    resu.append(-1)\n",
    "                else:\n",
    "                    resu.append(resu0[k])\n",
    "            state_dt = (datetime.datetime.strptime(resu[1], \"%Y%m%d\")).strftime('%Y-%m-%d')\n",
    "            try:\n",
    "                sql_insert = \"INSERT INTO stock_all(state_dt,stock_code,open,close,high,low,vol,amount,pre_close,amt_change,pct_change) VALUES ('%s', '%s', '%.2f', '%.2f','%.2f','%.2f','%i','%.2f','%.2f','%.2f','%.2f')\" % (state_dt,str(resu[0]),float(resu[2]),float(resu[5]),float(resu[3]),float(resu[4]),float(resu[9]),float(resu[10]),float(resu[6]),float(resu[7]),float(resu[8]))\n",
    "                cursor.execute(sql_insert)\n",
    "                db.commit()\n",
    "            except Exception as err:\n",
    "                continue\n",
    "    cursor.close()\n",
    "    db.close()\n",
    "    print('All Finished!')\n",
    "\n"
   ]
  },
  {
   "cell_type": "code",
   "execution_count": 33,
   "metadata": {},
   "outputs": [
    {
     "name": "stdout",
     "output_type": "stream",
     "text": [
      "0.0\n"
     ]
    }
   ],
   "source": [
    "from sklearn import svm\n",
    "import DC\n",
    "\n",
    "if __name__ == '__main__':\n",
    "    stock = '603398.SH'\n",
    "    dc = DC.data_collect(stock, '2010-01-01', '2018-09-05')\n",
    "    train = dc.data_train\n",
    "    target = dc.data_target\n",
    "    test_case = [dc.test_case]\n",
    "    model = svm.SVC()               # 建模\n",
    "    model.fit(train, target)        # 训练\n",
    "    ans2 = model.predict(test_case) # 预测\n",
    "    # 输出涨跌预测，1表示涨，0表示不涨。\n",
    "    print(ans2[0])\n",
    "\n"
   ]
  },
  {
   "cell_type": "code",
   "execution_count": null,
   "metadata": {},
   "outputs": [],
   "source": []
  }
 ],
 "metadata": {
  "kernelspec": {
   "display_name": "Python 2",
   "language": "python",
   "name": "python2"
  },
  "language_info": {
   "codemirror_mode": {
    "name": "ipython",
    "version": 2
   },
   "file_extension": ".py",
   "mimetype": "text/x-python",
   "name": "python",
   "nbconvert_exporter": "python",
   "pygments_lexer": "ipython2",
   "version": "2.7.6"
  }
 },
 "nbformat": 4,
 "nbformat_minor": 0
}
